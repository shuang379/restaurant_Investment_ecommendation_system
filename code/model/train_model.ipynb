{
 "cells": [
  {
   "cell_type": "code",
   "execution_count": 2,
   "metadata": {},
   "outputs": [],
   "source": [
    "# plots inline for ipython\n",
    "%matplotlib inline\n",
    "import matplotlib\n",
    "import matplotlib.pyplot as plt"
   ]
  },
  {
   "cell_type": "code",
   "execution_count": 13,
   "metadata": {},
   "outputs": [
    {
     "name": "stderr",
     "output_type": "stream",
     "text": [
      "b'Skipping line 19138: expected 10 fields, saw 11\\nSkipping line 21383: expected 10 fields, saw 11\\n'\n",
      "b'Skipping line 99592: expected 10 fields, saw 11\\n'\n",
      "b'Skipping line 151848: expected 10 fields, saw 11\\n'\n",
      "b'Skipping line 246253: expected 10 fields, saw 11\\n'\n",
      "b'Skipping line 311826: expected 10 fields, saw 11\\n'\n",
      "b'Skipping line 328900: expected 10 fields, saw 11\\nSkipping line 333983: expected 10 fields, saw 11\\n'\n",
      "b'Skipping line 395880: expected 10 fields, saw 11\\nSkipping line 436837: expected 10 fields, saw 11\\nSkipping line 444863: expected 10 fields, saw 11\\nSkipping line 450872: expected 10 fields, saw 11\\n'\n",
      "b'Skipping line 495685: expected 10 fields, saw 11\\n'\n",
      "b'Skipping line 539385: expected 10 fields, saw 11\\nSkipping line 557843: expected 10 fields, saw 11\\n'\n",
      "b'Skipping line 612680: expected 10 fields, saw 11\\nSkipping line 625840: expected 10 fields, saw 11\\nSkipping line 634957: expected 10 fields, saw 11\\nSkipping line 654783: expected 10 fields, saw 11\\n'\n",
      "b'Skipping line 723992: expected 10 fields, saw 11\\nSkipping line 757909: expected 10 fields, saw 11\\nSkipping line 768769: expected 10 fields, saw 11\\n'\n",
      "b'Skipping line 860638: expected 10 fields, saw 11\\n'\n",
      "b'Skipping line 937139: expected 10 fields, saw 11\\n'\n"
     ]
    }
   ],
   "source": [
    "'''\n",
    "train cnn mode for sentiment classification on yelp data set\n",
    "'''\n",
    "import pandas as pd\n",
    "import numpy as np\n",
    "from Word2VecUtility import Word2VecUtility\n",
    "from gensim.models import word2vec\n",
    "from keras.preprocessing import sequence\n",
    "\n",
    "data = pd.read_csv('review_sub_1000000.csv', sep=',', escapechar='\\\\', encoding='utf-8', error_bad_lines=False)\n",
    "data = data[(data.stars <= 5)&(data.stars >= 1)]\n",
    "data = data.sample(frac=0.1)\n",
    "w2v_model = word2vec.Word2Vec.load(\"300features_40minwords_10context_1000000\")\n",
    "data['text'] = data['text'].astype(str)"
   ]
  },
  {
   "cell_type": "code",
   "execution_count": 149,
   "metadata": {},
   "outputs": [],
   "source": [
    "w2v_model = word2vec.Word2Vec.load(\"300features_40minwords_10context_1000000\")"
   ]
  },
  {
   "cell_type": "code",
   "execution_count": 160,
   "metadata": {},
   "outputs": [
    {
     "data": {
      "text/plain": [
       "[('italian', 0.9594756960868835),\n",
       " ('japanese', 0.9486186504364014),\n",
       " ('asian', 0.9400120973587036),\n",
       " ('chinese', 0.9363560676574707),\n",
       " ('fusion', 0.9360105991363525),\n",
       " ('spanish', 0.9350817203521729),\n",
       " ('filipino', 0.9337738752365112),\n",
       " ('hawaiian', 0.9272395372390747),\n",
       " ('english', 0.9264158010482788),\n",
       " ('american', 0.9253512620925903)]"
      ]
     },
     "execution_count": 160,
     "metadata": {},
     "output_type": "execute_result"
    }
   ],
   "source": [
    "w2v_model.wv.most_similar(\"mexican\")"
   ]
  },
  {
   "cell_type": "code",
   "execution_count": 161,
   "metadata": {},
   "outputs": [
    {
     "data": {
      "text/plain": [
       "[('burrito', 0.9015251398086548),\n",
       " ('enchilada', 0.8428153395652771),\n",
       " ('ramen', 0.8182293176651001),\n",
       " ('kfc', 0.8077092170715332),\n",
       " ('bowls', 0.7908867597579956),\n",
       " ('quesadilla', 0.7805956602096558),\n",
       " ('italian', 0.7760134339332581),\n",
       " ('poke', 0.7691671252250671),\n",
       " ('jimmy', 0.7669188976287842),\n",
       " ('nacho', 0.7581745386123657)]"
      ]
     },
     "execution_count": 161,
     "metadata": {},
     "output_type": "execute_result"
    }
   ],
   "source": [
    "w2v_model.wv.most_similar(\"taco\") "
   ]
  },
  {
   "cell_type": "code",
   "execution_count": 187,
   "metadata": {},
   "outputs": [
    {
     "name": "stdout",
     "output_type": "stream",
     "text": [
      "0.817258151686987\n"
     ]
    }
   ],
   "source": [
    "sim = w2v_model.wv.n_similarity(['sushi', 'shop'], ['japanese', 'restaurant'])\n",
    "print(sim)"
   ]
  },
  {
   "cell_type": "code",
   "execution_count": 202,
   "metadata": {},
   "outputs": [
    {
     "data": {
      "text/plain": [
       "[('smoothie', 0.7865440249443054),\n",
       " ('pastries', 0.7633628249168396),\n",
       " ('soda', 0.7583913207054138),\n",
       " ('boba', 0.7531607151031494),\n",
       " ('desserts', 0.7493821382522583),\n",
       " ('iced', 0.7489231824874878),\n",
       " ('apps', 0.7409639954566956),\n",
       " ('dessert', 0.740259051322937),\n",
       " ('juice', 0.7396405935287476),\n",
       " ('pastry', 0.7343471646308899)]"
      ]
     },
     "execution_count": 202,
     "metadata": {},
     "output_type": "execute_result"
    }
   ],
   "source": [
    "w2v_model.wv.most_similar(positive=['coffee', 'italy'], negative = ['taiwan'], topn=10)"
   ]
  },
  {
   "cell_type": "code",
   "execution_count": 230,
   "metadata": {},
   "outputs": [
    {
     "data": {
      "text/plain": [
       "[('subway', 0.8572237491607666)]"
      ]
     },
     "execution_count": 230,
     "metadata": {},
     "output_type": "execute_result"
    }
   ],
   "source": [
    "w2v_model.wv.most_similar(positive=['chipotle', 'mexican'], negative = ['american'], topn=1)"
   ]
  },
  {
   "cell_type": "code",
   "execution_count": null,
   "metadata": {},
   "outputs": [],
   "source": [
    "w2v_model.wv.most_similar(positive=['coffee', 'french'], negative = ['taiwan'], topn=10)"
   ]
  },
  {
   "cell_type": "code",
   "execution_count": 198,
   "metadata": {},
   "outputs": [
    {
     "data": {
      "text/plain": [
       "[('buffet', 0.8227237462997437),\n",
       " ('nigiri', 0.820068895816803),\n",
       " ('sashimi', 0.8176635503768921),\n",
       " ('joint', 0.817276120185852),\n",
       " ('district', 0.8158387541770935),\n",
       " ('deli', 0.8124804496765137),\n",
       " ('poke', 0.803809404373169),\n",
       " ('bistro', 0.8011462092399597),\n",
       " ('japanese', 0.7994210720062256),\n",
       " ('goers', 0.7972640991210938)]"
      ]
     },
     "execution_count": 198,
     "metadata": {},
     "output_type": "execute_result"
    }
   ],
   "source": [
    "w2v_model.wv.most_similar(positive = [\"sushi\",\"shop\"]) "
   ]
  },
  {
   "cell_type": "code",
   "execution_count": 181,
   "metadata": {},
   "outputs": [
    {
     "data": {
      "text/plain": [
       "[('onions', 0.6205604076385498),\n",
       " ('mushrooms', 0.6087561845779419),\n",
       " ('peppers', 0.5981951355934143),\n",
       " ('artichoke', 0.5921621918678284),\n",
       " ('salt', 0.590464174747467),\n",
       " ('tomatoes', 0.588054895401001),\n",
       " ('avocado', 0.5865614414215088),\n",
       " ('brie', 0.5865062475204468),\n",
       " ('banana', 0.5777559280395508),\n",
       " ('potato', 0.5707169771194458)]"
      ]
     },
     "execution_count": 181,
     "metadata": {},
     "output_type": "execute_result"
    }
   ],
   "source": [
    "w2v_model.wv.most_similar(positive = [\"miso\"], negative = [\"mexican\"]) "
   ]
  },
  {
   "cell_type": "code",
   "execution_count": 12,
   "metadata": {},
   "outputs": [
    {
     "name": "stdout",
     "output_type": "stream",
     "text": [
      "(22340, 300)\n"
     ]
    },
    {
     "name": "stderr",
     "output_type": "stream",
     "text": [
      "/home/ubuntu/anaconda3/envs/tensorflow_p36/lib/python3.6/site-packages/ipykernel/__main__.py:1: DeprecationWarning: Call to deprecated `syn0` (Attribute will be removed in 4.0.0, use self.wv.vectors instead).\n",
      "  if __name__ == '__main__':\n"
     ]
    }
   ],
   "source": [
    "print(w2v_model.wv.syn0.shape)"
   ]
  },
  {
   "cell_type": "code",
   "execution_count": 92,
   "metadata": {},
   "outputs": [
    {
     "ename": "AttributeError",
     "evalue": "'Model' object has no attribute 'wv'",
     "output_type": "error",
     "traceback": [
      "\u001b[0;31m---------------------------------------------------------------------------\u001b[0m",
      "\u001b[0;31mAttributeError\u001b[0m                            Traceback (most recent call last)",
      "\u001b[0;32m<ipython-input-92-9793e1817dce>\u001b[0m in \u001b[0;36m<module>\u001b[0;34m()\u001b[0m\n\u001b[1;32m     12\u001b[0m \u001b[0moov\u001b[0m \u001b[0;34m=\u001b[0m \u001b[0;36m2\u001b[0m\u001b[0;34m\u001b[0m\u001b[0m\n\u001b[1;32m     13\u001b[0m \u001b[0;34m\u001b[0m\u001b[0m\n\u001b[0;32m---> 14\u001b[0;31m \u001b[0mwords_set\u001b[0m \u001b[0;34m=\u001b[0m \u001b[0mset\u001b[0m\u001b[0;34m(\u001b[0m\u001b[0mmodel\u001b[0m\u001b[0;34m.\u001b[0m\u001b[0mwv\u001b[0m\u001b[0;34m.\u001b[0m\u001b[0mindex2word\u001b[0m\u001b[0;34m)\u001b[0m\u001b[0;34m\u001b[0m\u001b[0m\n\u001b[0m\u001b[1;32m     15\u001b[0m \u001b[0mword2index\u001b[0m \u001b[0;34m=\u001b[0m \u001b[0;34m{\u001b[0m \u001b[0mword\u001b[0m \u001b[0;34m:\u001b[0m \u001b[0;34m(\u001b[0m\u001b[0mi\u001b[0m \u001b[0;34m+\u001b[0m \u001b[0mindex_from\u001b[0m\u001b[0;34m)\u001b[0m \u001b[0;32mfor\u001b[0m \u001b[0mi\u001b[0m\u001b[0;34m,\u001b[0m\u001b[0mword\u001b[0m \u001b[0;32min\u001b[0m \u001b[0menumerate\u001b[0m\u001b[0;34m(\u001b[0m\u001b[0mwords_set\u001b[0m\u001b[0;34m)\u001b[0m \u001b[0;34m}\u001b[0m\u001b[0;34m\u001b[0m\u001b[0m\n\u001b[1;32m     16\u001b[0m \u001b[0mindex2word\u001b[0m \u001b[0;34m=\u001b[0m \u001b[0;34m{\u001b[0m \u001b[0mi\u001b[0m \u001b[0;34m:\u001b[0m \u001b[0mword\u001b[0m \u001b[0;32mfor\u001b[0m \u001b[0mword\u001b[0m\u001b[0;34m,\u001b[0m \u001b[0mi\u001b[0m \u001b[0;32min\u001b[0m \u001b[0mword2index\u001b[0m\u001b[0;34m.\u001b[0m\u001b[0mitems\u001b[0m\u001b[0;34m(\u001b[0m\u001b[0;34m)\u001b[0m \u001b[0;34m}\u001b[0m\u001b[0;34m\u001b[0m\u001b[0m\n",
      "\u001b[0;31mAttributeError\u001b[0m: 'Model' object has no attribute 'wv'"
     ]
    }
   ],
   "source": [
    "# data embedding parameters\n",
    "max_length = 300\n",
    "# max_words = 5000\n",
    "# max_words = model.syn0.shape[0]\n",
    "num_features = 300\n",
    "\n",
    "\n",
    "# index trick parameters\n",
    "index_from = 3\n",
    "# padding = 0\n",
    "start = 1\n",
    "oov = 2\n",
    "\n",
    "words_set = set(w2v_model.wv.index2word)\n",
    "word2index = { word : (i + index_from) for i,word in enumerate(words_set) }\n",
    "index2word = { i : word for word, i in word2index.items() }\n",
    "index2word[0] = '0'\n",
    "index2word[1] = '1'\n",
    "index2word[2] = '2'"
   ]
  },
  {
   "cell_type": "code",
   "execution_count": 42,
   "metadata": {},
   "outputs": [
    {
     "name": "stdout",
     "output_type": "stream",
     "text": [
      "[nltk_data] Downloading package stopwords to /home/ubuntu/nltk_data...\n",
      "[nltk_data]   Package stopwords is already up-to-date!\n",
      "Finished 100k out of 10000000\n",
      "(100002, 100)\n"
     ]
    }
   ],
   "source": [
    "import nltk\n",
    "import time\n",
    "nltk.download('stopwords')\n",
    "\n",
    "# 'Word2Vec' object does not support item assignment\n",
    "padding_model = {}\n",
    "padding_model['0'] = np.random.standard_normal(num_features)\n",
    "padding_model['1'] = np.random.standard_normal(num_features)\n",
    "padding_model['2'] = np.random.standard_normal(num_features)\n",
    "\n",
    "t0 = time.time()\n",
    "reviews_words = []\n",
    "counter = 0\n",
    "t = 0\n",
    "for review in data[\"text\"]:\n",
    "    review_words = Word2VecUtility.review_to_wordlist(review, remove_stopwords = True)\n",
    "    # each word index increased with 3.\n",
    "    review_words = [start] + [word2index[w] if (w in words_set) else oov for w in review_words]\n",
    "#   review_words = [oov if (ix > (max_words + index_from)) else ix for ix in review_words]\n",
    "    reviews_words.append(review_words)\n",
    "    if counter % 100000 == 99999:\n",
    "        t += 1\n",
    "        print(\"Finished {}00k out of 10000000\".format(t))\n",
    "    counter += 1\n",
    "    \n",
    "\n",
    "# padding with 0, each review has max_length now.\n",
    "reviews_words = sequence.pad_sequences(reviews_words, maxlen = max_length, padding='post', truncating='post')\n",
    "print(reviews_words.shape)"
   ]
  },
  {
   "cell_type": "code",
   "execution_count": 43,
   "metadata": {},
   "outputs": [
    {
     "name": "stdout",
     "output_type": "stream",
     "text": [
      "50.21420097351074\n"
     ]
    }
   ],
   "source": [
    "t1 = time.time()\n",
    "print(t1-t0)"
   ]
  },
  {
   "cell_type": "code",
   "execution_count": 44,
   "metadata": {
    "scrolled": true
   },
   "outputs": [
    {
     "name": "stderr",
     "output_type": "stream",
     "text": [
      "/home/ubuntu/anaconda3/envs/tensorflow_p36/lib/python3.6/site-packages/ipykernel/__main__.py:9: DeprecationWarning: Call to deprecated `__contains__` (Method will be removed in 4.0.0, use self.wv.__contains__() instead).\n",
      "/home/ubuntu/anaconda3/envs/tensorflow_p36/lib/python3.6/site-packages/ipykernel/__main__.py:9: DeprecationWarning: Call to deprecated `__getitem__` (Method will be removed in 4.0.0, use self.wv.__getitem__() instead).\n"
     ]
    }
   ],
   "source": [
    "from keras.models import Sequential\n",
    "from keras.layers.core import Dense, Dropout, Activation, Flatten\n",
    "from keras.layers.embeddings import Embedding\n",
    "from keras.layers.convolutional import Convolution1D, MaxPooling1D\n",
    "from keras.callbacks import EarlyStopping, ModelCheckpoint\n",
    "\n",
    "data_matrix = np.empty((reviews_words.shape[0], max_length, num_features))\n",
    "for i in range(0, reviews_words.shape[0]):\n",
    "    data_matrix[i,:,:] = np.array([model[index2word[ix]] if (index2word[ix] in model) else padding_model[index2word[ix]] for ix in reviews_words[0]])"
   ]
  },
  {
   "cell_type": "code",
   "execution_count": 45,
   "metadata": {},
   "outputs": [],
   "source": [
    "# del(reviews_words)\n",
    "\n",
    "labels = data[\"stars\"]\n",
    "\n",
    "def vectorize_labels(labels, nums):\n",
    "    labels = np.asarray(labels, dtype='int32')\n",
    "    length = len(labels)\n",
    "    Y = np.zeros((length, nums))\n",
    "    for i in range(length):\n",
    "        Y[i, (labels[i]-1)] = 1.\n",
    "    return Y\n",
    "labels = vectorize_labels(labels, 5)"
   ]
  },
  {
   "cell_type": "code",
   "execution_count": 48,
   "metadata": {},
   "outputs": [
    {
     "name": "stdout",
     "output_type": "stream",
     "text": [
      "(80001, 100, 300)\n",
      "(20001, 100, 300)\n"
     ]
    }
   ],
   "source": [
    "from sklearn.cross_validation import train_test_split\n",
    "\n",
    "index = np.arange(data_matrix.shape[0])\n",
    "train_index, valid_index = train_test_split(index, train_size = 0.8, random_state = 123)\n",
    "del(index, data)\n",
    "\n",
    "train_data = data_matrix[train_index]\n",
    "valid_data = data_matrix[valid_index]\n",
    "train_labels = labels[train_index]\n",
    "valid_labels = labels[valid_index]\n",
    "\n",
    "print(train_data.shape)\n",
    "print(valid_data.shape)"
   ]
  },
  {
   "cell_type": "code",
   "execution_count": 53,
   "metadata": {},
   "outputs": [],
   "source": [
    "# model training parameters\n",
    "batch_size = 256\n",
    "# embedding_dims = 100\n",
    "nb_filter = 250\n",
    "filter_length = 3\n",
    "hidden_dims = 250\n",
    "nb_epoch = 10"
   ]
  },
  {
   "cell_type": "code",
   "execution_count": 56,
   "metadata": {},
   "outputs": [
    {
     "name": "stdout",
     "output_type": "stream",
     "text": [
      "0.020195722579956055\n"
     ]
    },
    {
     "name": "stderr",
     "output_type": "stream",
     "text": [
      "/home/ubuntu/anaconda3/envs/tensorflow_p36/lib/python3.6/site-packages/ipykernel/__main__.py:19: UserWarning: Update your `Conv1D` call to the Keras 2 API: `Conv1D(activation=\"relu\", filters=250, kernel_size=3, strides=1, padding=\"valid\")`\n",
      "/home/ubuntu/anaconda3/envs/tensorflow_p36/lib/python3.6/site-packages/ipykernel/__main__.py:21: UserWarning: Update your `MaxPooling1D` call to the Keras 2 API: `MaxPooling1D(pool_size=2)`\n"
     ]
    }
   ],
   "source": [
    "t0 = time.time()\n",
    "\n",
    "tf_model = Sequential()\n",
    "\n",
    "# we start off with an efficient embedding layer which maps\n",
    "# our vocab indices into embedding_dims dimensions\n",
    "# model.add(Embedding(max_features, embedding_dims, input_length=maxlen))\n",
    "\n",
    "tf_model.add(Dropout(0.25))\n",
    "\n",
    "# we add a Convolution1D, which will learn nb_filter\n",
    "# word group filters of size filter_length:\n",
    "\n",
    "# filter_length is like filter size, subsample_length is like step in 2D CNN.\n",
    "tf_model.add(Convolution1D(nb_filter=nb_filter,\n",
    "                        filter_length=filter_length,\n",
    "                        border_mode='valid',\n",
    "                        activation='relu',\n",
    "                        subsample_length=1))\n",
    "# we use standard max pooling (halving the output of the previous layer):\n",
    "tf_model.add(MaxPooling1D(pool_length=2))\n",
    "\n",
    "# We flatten the output of the conv layer,\n",
    "# so that we can add a vanilla dense layer:\n",
    "tf_model.add(Flatten())\n",
    "\n",
    "# We add a vanilla hidden layer:\n",
    "tf_model.add(Dense(hidden_dims))\n",
    "tf_model.add(Dropout(0.25))\n",
    "tf_model.add(Activation('relu'))\n",
    "\n",
    "# We project onto 5 unit output layer, and activate it with softmax:\n",
    "tf_model.add(Dense(5))\n",
    "tf_model.add(Activation('softmax'))\n",
    "\n",
    "earlystop = EarlyStopping(monitor = 'val_loss', min_delta = 0, patience = 3)\n",
    "checkpoint = ModelCheckpoint(monitor = 'val_loss', save_best_only = True, filepath = 'yelp_weights.hdf5')\n",
    "\n",
    "tf_model.compile(loss='categorical_crossentropy',\n",
    "              optimizer='adam',\n",
    "              class_mode='categorical', metrics = ['accuracy'])\n",
    "\n",
    "t1 = time.time()\n",
    "print(t1 - t0)"
   ]
  },
  {
   "cell_type": "code",
   "execution_count": 57,
   "metadata": {
    "scrolled": false
   },
   "outputs": [
    {
     "name": "stderr",
     "output_type": "stream",
     "text": [
      "/home/ubuntu/anaconda3/envs/tensorflow_p36/lib/python3.6/site-packages/ipykernel/__main__.py:3: UserWarning: The `nb_epoch` argument in `fit` has been renamed `epochs`.\n",
      "  app.launch_new_instance()\n"
     ]
    },
    {
     "name": "stdout",
     "output_type": "stream",
     "text": [
      "Train on 80001 samples, validate on 20001 samples\n",
      "Epoch 1/10\n",
      "80001/80001 [==============================] - 226s 3ms/step - loss: 1.4613 - acc: 0.4004 - val_loss: 1.4517 - val_acc: 0.4083\n",
      "Epoch 2/10\n",
      "80001/80001 [==============================] - 225s 3ms/step - loss: 1.4524 - acc: 0.4077 - val_loss: 1.4498 - val_acc: 0.4083\n",
      "Epoch 3/10\n",
      "80001/80001 [==============================] - 226s 3ms/step - loss: 1.4517 - acc: 0.4077 - val_loss: 1.4492 - val_acc: 0.4083\n",
      "Epoch 4/10\n",
      "80001/80001 [==============================] - 227s 3ms/step - loss: 1.4510 - acc: 0.4077 - val_loss: 1.4494 - val_acc: 0.4083\n",
      "Epoch 5/10\n",
      "80001/80001 [==============================] - 228s 3ms/step - loss: 1.4506 - acc: 0.4077 - val_loss: 1.4497 - val_acc: 0.4083\n",
      "Epoch 6/10\n",
      "80001/80001 [==============================] - 229s 3ms/step - loss: 1.4501 - acc: 0.4077 - val_loss: 1.4493 - val_acc: 0.4083\n",
      "Epoch 7/10\n",
      "80001/80001 [==============================] - 229s 3ms/step - loss: 1.4499 - acc: 0.4077 - val_loss: 1.4494 - val_acc: 0.4083\n",
      "Epoch 8/10\n",
      "80001/80001 [==============================] - 229s 3ms/step - loss: 1.4497 - acc: 0.4077 - val_loss: 1.4495 - val_acc: 0.4083\n",
      "Epoch 9/10\n",
      "80001/80001 [==============================] - 230s 3ms/step - loss: 1.4497 - acc: 0.4077 - val_loss: 1.4512 - val_acc: 0.4083\n",
      "Epoch 10/10\n",
      "80001/80001 [==============================] - 230s 3ms/step - loss: 1.4498 - acc: 0.4077 - val_loss: 1.4497 - val_acc: 0.4083\n"
     ]
    },
    {
     "data": {
      "text/plain": [
       "<keras.callbacks.History at 0x7fe87e3e7ef0>"
      ]
     },
     "execution_count": 57,
     "metadata": {},
     "output_type": "execute_result"
    }
   ],
   "source": [
    "tf_model.fit(train_data, train_labels, batch_size=batch_size,\n",
    "          nb_epoch=nb_epoch,\n",
    "          validation_data=(valid_data, valid_labels))"
   ]
  },
  {
   "cell_type": "code",
   "execution_count": 58,
   "metadata": {},
   "outputs": [],
   "source": [
    "# convert the wv word vectors into a numpy matrix that is suitable for insertion\n",
    "# into our TensorFlow and Keras models\n",
    "embedding_matrix = np.zeros((len(model.wv.vocab), 300))\n",
    "for i in range(len(model.wv.vocab)):\n",
    "    embedding_vector = model.wv[model.wv.index2word[i]]\n",
    "    if embedding_vector is not None:\n",
    "        embedding_matrix[i] = embedding_vector"
   ]
  },
  {
   "cell_type": "code",
   "execution_count": null,
   "metadata": {},
   "outputs": [],
   "source": [
    "from keras.preprocessing.text import Tokenizer\n",
    "from keras.preprocessing.sequence import pad_sequences\n",
    "from keras.layers import Dense, Input, LSTM, Embedding, Dropout, Activation, SpatialDropout1D, GRU\n",
    "from keras.layers import Bidirectional, GlobalAveragePooling1D, GlobalMaxPooling1D, concatenate\n",
    "from keras.models import Model\n",
    "from keras import initializers, regularizers, constraints, optimizers, layers\n",
    "from keras.utils import to_categorical\n",
    "from keras.callbacks import EarlyStopping, ModelCheckpoint"
   ]
  },
  {
   "cell_type": "code",
   "execution_count": 5,
   "metadata": {},
   "outputs": [
    {
     "ename": "NameError",
     "evalue": "name 'Tokenizer' is not defined",
     "output_type": "error",
     "traceback": [
      "\u001b[0;31m---------------------------------------\u001b[0m",
      "\u001b[0;31mNameError\u001b[0mTraceback (most recent call last)",
      "\u001b[0;32m<ipython-input-5-84836f83c7dc>\u001b[0m in \u001b[0;36m<module>\u001b[0;34m()\u001b[0m\n\u001b[1;32m     21\u001b[0m \u001b[0mvalid_data\u001b[0m \u001b[0;34m=\u001b[0m \u001b[0mdata\u001b[0m\u001b[0;34m[\u001b[0m\u001b[0;36m80000\u001b[0m\u001b[0;34m:\u001b[0m\u001b[0;34m]\u001b[0m\u001b[0;34m\u001b[0m\u001b[0m\n\u001b[1;32m     22\u001b[0m \u001b[0;34m\u001b[0m\u001b[0m\n\u001b[0;32m---> 23\u001b[0;31m \u001b[0mtokenizer\u001b[0m \u001b[0;34m=\u001b[0m \u001b[0mTokenizer\u001b[0m\u001b[0;34m(\u001b[0m\u001b[0mnum_words\u001b[0m\u001b[0;34m=\u001b[0m\u001b[0membedding_matrix\u001b[0m\u001b[0;34m.\u001b[0m\u001b[0mshape\u001b[0m\u001b[0;34m[\u001b[0m\u001b[0;36m0\u001b[0m\u001b[0;34m]\u001b[0m\u001b[0;34m)\u001b[0m\u001b[0;34m\u001b[0m\u001b[0m\n\u001b[0m\u001b[1;32m     24\u001b[0m \u001b[0mtokenizer\u001b[0m\u001b[0;34m.\u001b[0m\u001b[0mfit_on_texts\u001b[0m\u001b[0;34m(\u001b[0m\u001b[0mlist\u001b[0m\u001b[0;34m(\u001b[0m\u001b[0mtrain_data\u001b[0m\u001b[0;34m[\u001b[0m\u001b[0;34m'text'\u001b[0m\u001b[0;34m]\u001b[0m\u001b[0;34m.\u001b[0m\u001b[0mvalues\u001b[0m\u001b[0;34m)\u001b[0m\u001b[0;34m)\u001b[0m\u001b[0;34m\u001b[0m\u001b[0m\n\u001b[1;32m     25\u001b[0m \u001b[0mX_train\u001b[0m \u001b[0;34m=\u001b[0m \u001b[0mtokenizer\u001b[0m\u001b[0;34m.\u001b[0m\u001b[0mtexts_to_sequences\u001b[0m\u001b[0;34m(\u001b[0m\u001b[0mtrain_data\u001b[0m\u001b[0;34m[\u001b[0m\u001b[0;34m'text'\u001b[0m\u001b[0;34m]\u001b[0m\u001b[0;34m.\u001b[0m\u001b[0mvalues\u001b[0m\u001b[0;34m)\u001b[0m\u001b[0;34m\u001b[0m\u001b[0m\n",
      "\u001b[0;31mNameError\u001b[0m: name 'Tokenizer' is not defined"
     ]
    }
   ],
   "source": [
    "# I'm using pretrained word2 vec word vectors to get pretrained word embeddings\n",
    "embed_size = 300 \n",
    "# max number of unique words \n",
    "# max_features = 20000\n",
    "# max number of words from review to use\n",
    "# maxlen\n",
    "num_features = 300\n",
    "\n",
    "# File path\n",
    "#embedding_file = '../input/glove-global-vectors-for-word-representation/glove.twitter.27B.200d.txt'\n",
    "\n",
    "# read in embeddings\n",
    "#def get_coefs(word,*arr): return word, np.asarray(arr, dtype='float32')\n",
    "#embeddings_index = dict(get_coefs(*o.strip().split()) for o in open(embedding_file))\n",
    "\n",
    "#d_index = data.index\n",
    "label = list(data['stars'])\n",
    "#train_index, valid_index = train_test_split(d_index, train_size = 0.8, random_state = 123)\n",
    "\n",
    "train_data = data[:80000]\n",
    "valid_data = data[80000:]\n",
    "\n",
    "tokenizer = Tokenizer(num_words=embedding_matrix.shape[0])\n",
    "tokenizer.fit_on_texts(list(train_data['text'].values))\n",
    "X_train = tokenizer.texts_to_sequences(train_data['text'].values)\n",
    "X_test = tokenizer.texts_to_sequences(valid_data['text'].values)\n",
    "x_train = pad_sequences(X_train, maxlen = num_features)\n",
    "x_test = pad_sequences(X_test, maxlen = num_features)"
   ]
  },
  {
   "cell_type": "code",
   "execution_count": 233,
   "metadata": {},
   "outputs": [
    {
     "data": {
      "image/png": "[encoded data removed]",
      "text/plain": [
       "<Figure size 576x288 with 1 Axes>"
      ]
     },
     "metadata": {},
     "output_type": "display_data"
    }
   ],
   "source": [
    "import seaborn as sns\n",
    "#Get the distribution of the ratings\n",
    "x=train_data['stars'].value_counts()\n",
    "x=x.sort_index()\n",
    "#plot\n",
    "plt.figure(figsize=(8,4))\n",
    "ax= sns.barplot(x.index, x.values, alpha=0.8)\n",
    "plt.title(\"Rating Distribution for the training set\")\n",
    "plt.ylabel('# of restaurants', fontsize=12)\n",
    "plt.xlabel('Ratings ', fontsize=12)\n",
    "\n",
    "#adding the text labels\n",
    "rects = ax.patches\n",
    "labels = x.values\n",
    "for rect, label in zip(rects, labels):\n",
    "    height = rect.get_height()\n",
    "    ax.text(rect.get_x() + rect.get_width()/2, height + 5, label, ha='center', va='bottom')\n",
    "\n",
    "plt.show()"
   ]
  },
  {
   "cell_type": "code",
   "execution_count": 85,
   "metadata": {},
   "outputs": [],
   "source": [
    "# del(reviews_words)\n",
    "\n",
    "labels = data[\"stars\"]\n",
    "\n",
    "def vectorize_labels(labels, nums):\n",
    "    labels = np.asarray(labels, dtype='int32')\n",
    "    length = len(labels)\n",
    "    Y = np.zeros((length, nums))\n",
    "    for i in range(length):\n",
    "        Y[i, (labels[i]-1)] = 1.\n",
    "    return Y\n",
    "labels = vectorize_labels(labels, 5)\n",
    "\n",
    "train_labels = labels[:80000]\n",
    "valid_labels = labels[80000:]"
   ]
  },
  {
   "cell_type": "code",
   "execution_count": 91,
   "metadata": {},
   "outputs": [
    {
     "data": {
      "text/plain": [
       "(22340, 300)"
      ]
     },
     "execution_count": 91,
     "metadata": {},
     "output_type": "execute_result"
    }
   ],
   "source": [
    "embedding_matrix.shape"
   ]
  },
  {
   "cell_type": "code",
   "execution_count": 98,
   "metadata": {},
   "outputs": [],
   "source": [
    "nb_words = embedding_matrix.shape[0]\n",
    "\n",
    "inp = Input(shape = (max_length,))\n",
    "x = Embedding(nb_words, num_features, weights = [embedding_matrix], trainable = False)(inp)\n",
    "x = SpatialDropout1D(0.5)(x)\n",
    "x = Bidirectional(LSTM(40, return_sequences=True))(x)\n",
    "x = Bidirectional(GRU(40, return_sequences=True))(x)\n",
    "avg_pool = GlobalAveragePooling1D()(x)\n",
    "max_pool = GlobalMaxPooling1D()(x)\n",
    "conc = concatenate([avg_pool, max_pool])\n",
    "outp = Dense(5, activation = 'sigmoid')(conc)\n",
    "\n",
    "model = Model(inputs = inp, outputs = outp)\n",
    "# patience is how many epochs to wait to see if val_loss will improve again.\n",
    "earlystop = EarlyStopping(monitor = 'val_loss', min_delta = 0, patience = 3)\n",
    "checkpoint = ModelCheckpoint(monitor = 'val_loss', save_best_only = True, filepath = 'yelp_lstm_gru_weights.hdf5')\n",
    "model.compile(loss='categorical_crossentropy', optimizer = 'adam', metrics = ['accuracy'])"
   ]
  },
  {
   "cell_type": "code",
   "execution_count": null,
   "metadata": {},
   "outputs": [],
   "source": []
  },
  {
   "cell_type": "code",
   "execution_count": 105,
   "metadata": {},
   "outputs": [
    {
     "name": "stdout",
     "output_type": "stream",
     "text": [
      "Train on 72000 samples, validate on 8000 samples\n",
      "Epoch 1/20\n",
      "72000/72000 [==============================] - 835s 12ms/step - loss: 1.1011 - acc: 0.5315 - val_loss: 1.1013 - val_acc: 0.5335\n",
      "Epoch 2/20\n",
      "72000/72000 [==============================] - 831s 12ms/step - loss: 1.0846 - acc: 0.5382 - val_loss: 1.0779 - val_acc: 0.5440\n",
      "Epoch 3/20\n",
      "72000/72000 [==============================] - 829s 12ms/step - loss: 1.0681 - acc: 0.5436 - val_loss: 1.0666 - val_acc: 0.5479\n",
      "Epoch 4/20\n",
      "72000/72000 [==============================] - 830s 12ms/step - loss: 1.0484 - acc: 0.5534 - val_loss: 1.0390 - val_acc: 0.5584\n",
      "Epoch 5/20\n",
      "72000/72000 [==============================] - 831s 12ms/step - loss: 1.0333 - acc: 0.5580 - val_loss: 1.0198 - val_acc: 0.5666\n",
      "Epoch 6/20\n",
      "72000/72000 [==============================] - 830s 12ms/step - loss: 1.0172 - acc: 0.5672 - val_loss: 1.0007 - val_acc: 0.5743\n",
      "Epoch 7/20\n",
      "72000/72000 [==============================] - 830s 12ms/step - loss: 1.0011 - acc: 0.5725 - val_loss: 1.0047 - val_acc: 0.5730\n",
      "Epoch 8/20\n",
      "72000/72000 [==============================] - 831s 12ms/step - loss: 0.9878 - acc: 0.5794 - val_loss: 0.9997 - val_acc: 0.5819\n",
      "Epoch 9/20\n",
      "72000/72000 [==============================] - 830s 12ms/step - loss: 0.9751 - acc: 0.5849 - val_loss: 0.9721 - val_acc: 0.5889\n",
      "Epoch 10/20\n",
      "72000/72000 [==============================] - 831s 12ms/step - loss: 0.9671 - acc: 0.5885 - val_loss: 0.9728 - val_acc: 0.5886\n",
      "Epoch 11/20\n",
      "72000/72000 [==============================] - 829s 12ms/step - loss: 0.9577 - acc: 0.5915 - val_loss: 0.9564 - val_acc: 0.5940\n",
      "Epoch 12/20\n",
      "72000/72000 [==============================] - 831s 12ms/step - loss: 0.9453 - acc: 0.5996 - val_loss: 0.9411 - val_acc: 0.5985\n",
      "Epoch 13/20\n",
      "72000/72000 [==============================] - 832s 12ms/step - loss: 0.9393 - acc: 0.5985 - val_loss: 0.9349 - val_acc: 0.6008\n",
      "Epoch 14/20\n",
      "72000/72000 [==============================] - 830s 12ms/step - loss: 0.9297 - acc: 0.6036 - val_loss: 0.9275 - val_acc: 0.6115\n",
      "Epoch 15/20\n",
      "72000/72000 [==============================] - 831s 12ms/step - loss: 0.9199 - acc: 0.6070 - val_loss: 0.9233 - val_acc: 0.6130\n",
      "Epoch 16/20\n",
      "72000/72000 [==============================] - 830s 12ms/step - loss: 0.9122 - acc: 0.6105 - val_loss: 0.9213 - val_acc: 0.6114\n",
      "Epoch 17/20\n",
      "72000/72000 [==============================] - 831s 12ms/step - loss: 0.9057 - acc: 0.6132 - val_loss: 0.9199 - val_acc: 0.6130\n",
      "Epoch 18/20\n",
      "72000/72000 [==============================] - 832s 12ms/step - loss: 0.9041 - acc: 0.6133 - val_loss: 0.9150 - val_acc: 0.6121\n",
      "Epoch 19/20\n",
      "72000/72000 [==============================] - 829s 12ms/step - loss: 0.8960 - acc: 0.6196 - val_loss: 0.9143 - val_acc: 0.6158\n",
      "Epoch 20/20\n",
      "72000/72000 [==============================] - 830s 12ms/step - loss: 0.8881 - acc: 0.6202 - val_loss: 0.9183 - val_acc: 0.6076\n"
     ]
    }
   ],
   "source": [
    "history = model.fit(x_train, train_labels, batch_size = 512, epochs = 20, validation_split = .1,\n",
    "          callbacks=[earlystop, checkpoint])"
   ]
  },
  {
   "cell_type": "code",
   "execution_count": 235,
   "metadata": {
    "scrolled": true
   },
   "outputs": [
    {
     "data": {
      "image/png": "[encoded data removed]",
      "text/plain": [
       "<Figure size 432x288 with 1 Axes>"
      ]
     },
     "metadata": {},
     "output_type": "display_data"
    }
   ],
   "source": [
    "plt.title(\"Learning Curve - Word2Vec\")\n",
    "plt.xlabel(\"epoch\")\n",
    "plt.ylabel(\"Score\")\n",
    "plt.ylim(0.4, 0.8)\n",
    "lw = 2\n",
    "plt.plot(history.history['acc'], label=\"Training score\",\n",
    "             color=\"darkorange\", lw=lw)\n",
    "\n",
    "plt.plot(history.history['val_acc'], label=\"Cross-validation score\",\n",
    "             color=\"navy\", lw=lw)\n",
    "\n",
    "plt.legend(loc=\"best\")\n",
    "plt.show()"
   ]
  },
  {
   "cell_type": "code",
   "execution_count": 110,
   "metadata": {},
   "outputs": [
    {
     "name": "stdout",
     "output_type": "stream",
     "text": [
      "20002/20002 [==============================] - 94s 5ms/step\n"
     ]
    }
   ],
   "source": [
    "y_pred = model.predict([x_test], batch_size=1024, verbose = 1)"
   ]
  },
  {
   "cell_type": "code",
   "execution_count": 114,
   "metadata": {},
   "outputs": [
    {
     "data": {
      "text/plain": [
       "(20002, 5)"
      ]
     },
     "execution_count": 114,
     "metadata": {},
     "output_type": "execute_result"
    }
   ],
   "source": [
    "y_pred.shape"
   ]
  },
  {
   "cell_type": "code",
   "execution_count": 119,
   "metadata": {},
   "outputs": [
    {
     "name": "stdout",
     "output_type": "stream",
     "text": [
      "20002/20002 [==============================] - 93s 5ms/step\n"
     ]
    },
    {
     "data": {
      "text/plain": [
       "[0.9096710684001237, 0.6118888109639316]"
      ]
     },
     "execution_count": 119,
     "metadata": {},
     "output_type": "execute_result"
    }
   ],
   "source": [
    "model.evaluate(x_test, valid_labels, verbose = 1, batch_size=1024)"
   ]
  },
  {
   "cell_type": "markdown",
   "metadata": {},
   "source": [
    "loss = ;  accu = "
   ]
  },
  {
   "cell_type": "code",
   "execution_count": 122,
   "metadata": {},
   "outputs": [
    {
     "name": "stdout",
     "output_type": "stream",
     "text": [
      "             precision    recall  f1-score   support\n",
      "\n",
      "          0       0.71      0.64      0.67      2373\n",
      "          1       0.47      0.23      0.31      1872\n",
      "          2       0.43      0.44      0.43      2510\n",
      "          3       0.48      0.53      0.50      5010\n",
      "          4       0.74      0.80      0.76      8237\n",
      "\n",
      "avg / total       0.61      0.61      0.60     20002\n",
      "\n"
     ]
    }
   ],
   "source": [
    "from sklearn import metrics\n",
    "\n",
    "v = metrics.classification_report(np.argmax(valid_labels, axis = 1),np.argmax(y_pred, axis = 1))\n",
    "print(v)"
   ]
  },
  {
   "cell_type": "code",
   "execution_count": 123,
   "metadata": {},
   "outputs": [],
   "source": [
    "model.save('yelp_w2v_LSTM_GRU_model.h5')"
   ]
  },
  {
   "cell_type": "code",
   "execution_count": 124,
   "metadata": {
    "scrolled": true
   },
   "outputs": [
    {
     "name": "stdout",
     "output_type": "stream",
     "text": [
      "[[1519  274  286  144  150]\n",
      " [ 402  435  663  257  115]\n",
      " [ 112  177 1096  898  227]\n",
      " [  54   29  424 2634 1869]\n",
      " [  63   10   96 1513 6555]]\n"
     ]
    }
   ],
   "source": [
    "cm = metrics. confusion_matrix(np.argmax(valid_labels, axis = 1),np.argmax(y_pred, axis = 1))\n",
    "print(cm)"
   ]
  },
  {
   "cell_type": "markdown",
   "metadata": {},
   "source": [
    "Glove"
   ]
  },
  {
   "cell_type": "code",
   "execution_count": 125,
   "metadata": {},
   "outputs": [],
   "source": [
    "# I'm using GLoVe word vectors to get pretrained word embeddings\n",
    "embed_size = 200 \n",
    "# max number of unique words \n",
    "max_features = 20000\n",
    "# max number of words from review to use\n",
    "num_features = 200\n",
    "\n",
    "# File path\n",
    "embedding_file = './glove/glove.twitter.27B.200d.txt'\n",
    "\n",
    "# read in embeddings\n",
    "def get_coefs(word,*arr): return word, np.asarray(arr, dtype='float32')\n",
    "embeddings_index = dict(get_coefs(*o.strip().split()) for o in open(embedding_file))"
   ]
  },
  {
   "cell_type": "code",
   "execution_count": 127,
   "metadata": {},
   "outputs": [],
   "source": [
    "tokenizer = Tokenizer(num_words=max_features)\n",
    "tokenizer.fit_on_texts(list(train_data['text'].values))\n",
    "X_train = tokenizer.texts_to_sequences(train_data['text'].values)\n",
    "X_test = tokenizer.texts_to_sequences(valid_data['text'].values)\n",
    "x_train = pad_sequences(X_train, maxlen = num_features)\n",
    "x_test = pad_sequences(X_test, maxlen = num_features)"
   ]
  },
  {
   "cell_type": "code",
   "execution_count": 128,
   "metadata": {},
   "outputs": [],
   "source": [
    "word_index = tokenizer.word_index\n",
    "\n",
    "nb_words = min(max_features, len(word_index))\n",
    "# create a zeros matrix of the correct dimensions \n",
    "embedding_matrix = np.zeros((nb_words, embed_size))\n",
    "missed = []\n",
    "for word, i in word_index.items():\n",
    "    if i >= nb_words: break\n",
    "    embedding_vector = embeddings_index.get(word)\n",
    "    if embedding_vector is not None:\n",
    "        embedding_matrix[i] = embedding_vector\n",
    "    else:\n",
    "        missed.append(word)"
   ]
  },
  {
   "cell_type": "code",
   "execution_count": 129,
   "metadata": {},
   "outputs": [
    {
     "data": {
      "text/plain": [
       "2054"
      ]
     },
     "execution_count": 129,
     "metadata": {},
     "output_type": "execute_result"
    }
   ],
   "source": [
    "len(missed)"
   ]
  },
  {
   "cell_type": "code",
   "execution_count": 130,
   "metadata": {},
   "outputs": [
    {
     "data": {
      "text/plain": [
       "[\"it's\", \"don't\", \"i'm\", \"i've\", \"didn't\", '2', '5', '3', \"wasn't\", \"can't\"]"
      ]
     },
     "execution_count": 130,
     "metadata": {},
     "output_type": "execute_result"
    }
   ],
   "source": [
    "missed[0:10]"
   ]
  },
  {
   "cell_type": "code",
   "execution_count": 133,
   "metadata": {},
   "outputs": [],
   "source": [
    "inp = Input(shape = (num_features,))\n",
    "x = Embedding(nb_words, embed_size, weights = [embedding_matrix], trainable = True)(inp)\n",
    "x = SpatialDropout1D(0.5)(x)\n",
    "x = Bidirectional(LSTM(40, return_sequences=True))(x)\n",
    "x = Bidirectional(GRU(40, return_sequences=True))(x)\n",
    "avg_pool = GlobalAveragePooling1D()(x)\n",
    "max_pool = GlobalMaxPooling1D()(x)\n",
    "conc = concatenate([avg_pool, max_pool])\n",
    "outp = Dense(5, activation = 'sigmoid')(conc)\n",
    "\n",
    "model_G = Model(inputs = inp, outputs = outp)\n",
    "# patience is how many epochs to wait to see if val_loss will improve again.\n",
    "earlystop = EarlyStopping(monitor = 'val_loss', min_delta = 0, patience = 3)\n",
    "checkpoint = ModelCheckpoint(monitor = 'val_loss', save_best_only = True, filepath = 'yelp_lstm_gru_weights.hdf5')\n",
    "model_G.compile(loss = 'categorical_crossentropy', optimizer = 'adam', metrics = ['accuracy'])"
   ]
  },
  {
   "cell_type": "code",
   "execution_count": 134,
   "metadata": {},
   "outputs": [
    {
     "name": "stdout",
     "output_type": "stream",
     "text": [
      "Train on 72000 samples, validate on 8000 samples\n",
      "Epoch 1/20\n",
      "72000/72000 [==============================] - 643s 9ms/step - loss: 1.2393 - acc: 0.4706 - val_loss: 0.9910 - val_acc: 0.5606\n",
      "Epoch 2/20\n",
      "72000/72000 [==============================] - 637s 9ms/step - loss: 0.9200 - acc: 0.5960 - val_loss: 0.8585 - val_acc: 0.6305\n",
      "Epoch 3/20\n",
      "72000/72000 [==============================] - 638s 9ms/step - loss: 0.8461 - acc: 0.6288 - val_loss: 0.8253 - val_acc: 0.6476\n",
      "Epoch 4/20\n",
      "72000/72000 [==============================] - 638s 9ms/step - loss: 0.8054 - acc: 0.6468 - val_loss: 0.8090 - val_acc: 0.6562\n",
      "Epoch 5/20\n",
      "72000/72000 [==============================] - 641s 9ms/step - loss: 0.7795 - acc: 0.6596 - val_loss: 0.7958 - val_acc: 0.6613\n",
      "Epoch 6/20\n",
      "72000/72000 [==============================] - 637s 9ms/step - loss: 0.7584 - acc: 0.6693 - val_loss: 0.7936 - val_acc: 0.6629\n",
      "Epoch 7/20\n",
      "72000/72000 [==============================] - 641s 9ms/step - loss: 0.7367 - acc: 0.6795 - val_loss: 0.7839 - val_acc: 0.6670\n",
      "Epoch 8/20\n",
      "72000/72000 [==============================] - 638s 9ms/step - loss: 0.7206 - acc: 0.6868 - val_loss: 0.7906 - val_acc: 0.6615\n",
      "Epoch 9/20\n",
      "72000/72000 [==============================] - 639s 9ms/step - loss: 0.7014 - acc: 0.6946 - val_loss: 0.7929 - val_acc: 0.6607\n",
      "Epoch 10/20\n",
      "72000/72000 [==============================] - 640s 9ms/step - loss: 0.6835 - acc: 0.7050 - val_loss: 0.7951 - val_acc: 0.6641\n"
     ]
    }
   ],
   "source": [
    "history_G = model_G.fit(x_train, train_labels, batch_size = 512, epochs = 20, validation_split = .1,\n",
    "          callbacks=[earlystop, checkpoint])"
   ]
  },
  {
   "cell_type": "code",
   "execution_count": 236,
   "metadata": {},
   "outputs": [
    {
     "data": {
      "image/png": "[encoded data removed]",
      "text/plain": [
       "<Figure size 432x288 with 1 Axes>"
      ]
     },
     "metadata": {},
     "output_type": "display_data"
    }
   ],
   "source": [
    "plt.title(\"Learning Curve -Glove\")\n",
    "plt.xlabel(\"epoch\")\n",
    "plt.ylabel(\"Score\")\n",
    "plt.ylim(0.4, 0.8)\n",
    "lw = 2\n",
    "plt.plot(history_G.history['acc'], label=\"Training score\",\n",
    "             color=\"darkorange\", lw=lw)\n",
    "\n",
    "plt.plot(history_G.history['val_acc'], label=\"Cross-validation score\",\n",
    "             color=\"navy\", lw=lw)\n",
    "\n",
    "plt.legend(loc=\"best\")\n",
    "plt.show()"
   ]
  },
  {
   "cell_type": "code",
   "execution_count": 143,
   "metadata": {},
   "outputs": [],
   "source": [
    "model_G.save('yelp_glove_lstm_gru_model.h5')"
   ]
  },
  {
   "cell_type": "code",
   "execution_count": 142,
   "metadata": {},
   "outputs": [
    {
     "name": "stdout",
     "output_type": "stream",
     "text": [
      "20002/20002 [==============================] - 52s 3ms/step\n"
     ]
    }
   ],
   "source": [
    "y_pred = model_G.predict([x_test], batch_size=1024, verbose = 1)"
   ]
  },
  {
   "cell_type": "code",
   "execution_count": 144,
   "metadata": {},
   "outputs": [
    {
     "name": "stdout",
     "output_type": "stream",
     "text": [
      "20002/20002 [==============================] - 50s 3ms/step\n"
     ]
    },
    {
     "data": {
      "text/plain": [
       "[0.7723653703829656, 0.6697830214296361]"
      ]
     },
     "execution_count": 144,
     "metadata": {},
     "output_type": "execute_result"
    }
   ],
   "source": [
    "model_G.evaluate(x_test, valid_labels, verbose = 1, batch_size=1024)"
   ]
  },
  {
   "cell_type": "code",
   "execution_count": 148,
   "metadata": {
    "scrolled": true
   },
   "outputs": [
    {
     "name": "stdout",
     "output_type": "stream",
     "text": [
      "             precision    recall  f1-score   support\n",
      "\n",
      "          0       0.71      0.82      0.76      2373\n",
      "          1       0.48      0.44      0.46      1872\n",
      "          2       0.53      0.44      0.48      2510\n",
      "          3       0.57      0.51      0.54      5010\n",
      "          4       0.77      0.85      0.81      8237\n",
      "\n",
      "avg / total       0.66      0.67      0.66     20002\n",
      "\n",
      "[[1948  318   53   23   31]\n",
      " [ 593  816  366   65   32]\n",
      " [ 119  484 1103  672  132]\n",
      " [  32   72  494 2565 1847]\n",
      " [  35   15   62 1160 6965]]\n"
     ]
    }
   ],
   "source": [
    "v_G = metrics.classification_report(np.argmax(valid_labels, axis = 1),np.argmax(y_pred, axis = 1))\n",
    "print(v_G)\n",
    "cm_G = metrics.confusion_matrix(np.argmax(valid_labels, axis = 1),np.argmax(y_pred, axis = 1))\n",
    "print(cm_G)"
   ]
  },
  {
   "cell_type": "code",
   "execution_count": 7,
   "metadata": {},
   "outputs": [],
   "source": [
    "from sklearn.pipeline import Pipeline, make_pipeline\n",
    "from sklearn.feature_extraction.text import TfidfVectorizer\n",
    "from sklearn.base import BaseEstimator, ClassifierMixin\n",
    "from sklearn.linear_model import LogisticRegression\n",
    "from sklearn.model_selection import cross_val_score\n",
    "from sklearn import metrics\n",
    "from sklearn.metrics import roc_auc_score\n",
    "\n",
    "from scipy import sparse"
   ]
  },
  {
   "cell_type": "code",
   "execution_count": 18,
   "metadata": {},
   "outputs": [],
   "source": [
    "from sklearn.cross_validation import train_test_split\n",
    "\n",
    "#index = data.index\n",
    "train_data, valid_data = train_test_split(data, train_size = 0.8, random_state = 123)\n",
    "\n",
    "#train_data = data[train_index]\n",
    "#valid_data = data[valid_index]"
   ]
  },
  {
   "cell_type": "code",
   "execution_count": 19,
   "metadata": {},
   "outputs": [
    {
     "data": {
      "text/html": [
       "<div>\n",
       "<style scoped>\n",
       "    .dataframe tbody tr th:only-of-type {\n",
       "        vertical-align: middle;\n",
       "    }\n",
       "\n",
       "    .dataframe tbody tr th {\n",
       "        vertical-align: top;\n",
       "    }\n",
       "\n",
       "    .dataframe thead th {\n",
       "        text-align: right;\n",
       "    }\n",
       "</style>\n",
       "<table border=\"1\" class=\"dataframe\">\n",
       "  <thead>\n",
       "    <tr style=\"text-align: right;\">\n",
       "      <th></th>\n",
       "      <th>review_id</th>\n",
       "      <th>user_id</th>\n",
       "      <th>business_id</th>\n",
       "      <th>date</th>\n",
       "      <th>text</th>\n",
       "      <th>useful</th>\n",
       "      <th>funny</th>\n",
       "      <th>cool</th>\n",
       "      <th>city</th>\n",
       "      <th>stars_1.0</th>\n",
       "      <th>stars_2.0</th>\n",
       "      <th>stars_3.0</th>\n",
       "      <th>stars_4.0</th>\n",
       "      <th>stars_5.0</th>\n",
       "    </tr>\n",
       "  </thead>\n",
       "  <tbody>\n",
       "    <tr>\n",
       "      <th>975220</th>\n",
       "      <td>nYYo79DMq7ks_H8DbHmEBg</td>\n",
       "      <td>ZH9GBktJcn7iK-IP9qHqfQ</td>\n",
       "      <td>Tm2dKN_-DCdZfF2xMWrX7w</td>\n",
       "      <td>2010-12-20</td>\n",
       "      <td>This by bar is one of Cleveland's best kept se...</td>\n",
       "      <td>3.0</td>\n",
       "      <td>0.0</td>\n",
       "      <td>1.0</td>\n",
       "      <td>Cleveland</td>\n",
       "      <td>0</td>\n",
       "      <td>0</td>\n",
       "      <td>0</td>\n",
       "      <td>0</td>\n",
       "      <td>1</td>\n",
       "    </tr>\n",
       "    <tr>\n",
       "      <th>529568</th>\n",
       "      <td>xU6XRkHN780anOsrsSKC9A</td>\n",
       "      <td>N-rmSmFsulSrc2BtSAf3-Q</td>\n",
       "      <td>qKys2eEhVt5A7NUYMn7o7Q</td>\n",
       "      <td>2016-05-29</td>\n",
       "      <td>Got the lounge burger, regular fries, and a ch...</td>\n",
       "      <td>1.0</td>\n",
       "      <td>0.0</td>\n",
       "      <td>0.0</td>\n",
       "      <td>Las Vegas</td>\n",
       "      <td>0</td>\n",
       "      <td>0</td>\n",
       "      <td>1</td>\n",
       "      <td>0</td>\n",
       "      <td>0</td>\n",
       "    </tr>\n",
       "    <tr>\n",
       "      <th>323471</th>\n",
       "      <td>vMTtB2tLL1Ws-s6VDVq4fg</td>\n",
       "      <td>Ru4OiTnRQJmWf5HGqUJKkQ</td>\n",
       "      <td>1qwkbN3wu3AGDxMTXVz2gA</td>\n",
       "      <td>2018-03-22</td>\n",
       "      <td>Rip off! Over charge for everything. Have to p...</td>\n",
       "      <td>1.0</td>\n",
       "      <td>0.0</td>\n",
       "      <td>0.0</td>\n",
       "      <td>Scottsdale</td>\n",
       "      <td>1</td>\n",
       "      <td>0</td>\n",
       "      <td>0</td>\n",
       "      <td>0</td>\n",
       "      <td>0</td>\n",
       "    </tr>\n",
       "    <tr>\n",
       "      <th>316407</th>\n",
       "      <td>NTifYl5-X-1SIaXm3sZabQ</td>\n",
       "      <td>anxUounz3Zc32a6zJu1-HA</td>\n",
       "      <td>nYSNN8v4up1rxIG_xKkl5Q</td>\n",
       "      <td>2017-05-11</td>\n",
       "      <td>Good food, great service. Also love using the ...</td>\n",
       "      <td>0.0</td>\n",
       "      <td>0.0</td>\n",
       "      <td>0.0</td>\n",
       "      <td>Charlotte</td>\n",
       "      <td>0</td>\n",
       "      <td>0</td>\n",
       "      <td>0</td>\n",
       "      <td>0</td>\n",
       "      <td>1</td>\n",
       "    </tr>\n",
       "    <tr>\n",
       "      <th>900225</th>\n",
       "      <td>hyHN0FI1K3KPkN55IxaiZg</td>\n",
       "      <td>wi7VxOMxcJMS3rENbCglVw</td>\n",
       "      <td>HadzjG0pPrqH-t7Yv1MEKA</td>\n",
       "      <td>2018-06-05</td>\n",
       "      <td>Been going here for over 45 years and have nev...</td>\n",
       "      <td>1.0</td>\n",
       "      <td>1.0</td>\n",
       "      <td>1.0</td>\n",
       "      <td>Painesville</td>\n",
       "      <td>0</td>\n",
       "      <td>0</td>\n",
       "      <td>0</td>\n",
       "      <td>0</td>\n",
       "      <td>1</td>\n",
       "    </tr>\n",
       "  </tbody>\n",
       "</table>\n",
       "</div>"
      ],
      "text/plain": [
       "                     review_id                 user_id  \\\n",
       "975220  nYYo79DMq7ks_H8DbHmEBg  ZH9GBktJcn7iK-IP9qHqfQ   \n",
       "529568  xU6XRkHN780anOsrsSKC9A  N-rmSmFsulSrc2BtSAf3-Q   \n",
       "323471  vMTtB2tLL1Ws-s6VDVq4fg  Ru4OiTnRQJmWf5HGqUJKkQ   \n",
       "316407  NTifYl5-X-1SIaXm3sZabQ  anxUounz3Zc32a6zJu1-HA   \n",
       "900225  hyHN0FI1K3KPkN55IxaiZg  wi7VxOMxcJMS3rENbCglVw   \n",
       "\n",
       "                   business_id        date  \\\n",
       "975220  Tm2dKN_-DCdZfF2xMWrX7w  2010-12-20   \n",
       "529568  qKys2eEhVt5A7NUYMn7o7Q  2016-05-29   \n",
       "323471  1qwkbN3wu3AGDxMTXVz2gA  2018-03-22   \n",
       "316407  nYSNN8v4up1rxIG_xKkl5Q  2017-05-11   \n",
       "900225  HadzjG0pPrqH-t7Yv1MEKA  2018-06-05   \n",
       "\n",
       "                                                     text  useful  funny  \\\n",
       "975220  This by bar is one of Cleveland's best kept se...     3.0    0.0   \n",
       "529568  Got the lounge burger, regular fries, and a ch...     1.0    0.0   \n",
       "323471  Rip off! Over charge for everything. Have to p...     1.0    0.0   \n",
       "316407  Good food, great service. Also love using the ...     0.0    0.0   \n",
       "900225  Been going here for over 45 years and have nev...     1.0    1.0   \n",
       "\n",
       "        cool         city  stars_1.0  stars_2.0  stars_3.0  stars_4.0  \\\n",
       "975220   1.0    Cleveland          0          0          0          0   \n",
       "529568   0.0    Las Vegas          0          0          1          0   \n",
       "323471   0.0   Scottsdale          1          0          0          0   \n",
       "316407   0.0    Charlotte          0          0          0          0   \n",
       "900225   1.0  Painesville          0          0          0          0   \n",
       "\n",
       "        stars_5.0  \n",
       "975220          1  \n",
       "529568          0  \n",
       "323471          0  \n",
       "316407          1  \n",
       "900225          1  "
      ]
     },
     "execution_count": 19,
     "metadata": {},
     "output_type": "execute_result"
    }
   ],
   "source": [
    "train_data = pd.get_dummies(train_data, columns = ['stars'])\n",
    "train_data.head()"
   ]
  },
  {
   "cell_type": "code",
   "execution_count": 20,
   "metadata": {},
   "outputs": [
    {
     "data": {
      "text/html": [
       "<div>\n",
       "<style scoped>\n",
       "    .dataframe tbody tr th:only-of-type {\n",
       "        vertical-align: middle;\n",
       "    }\n",
       "\n",
       "    .dataframe tbody tr th {\n",
       "        vertical-align: top;\n",
       "    }\n",
       "\n",
       "    .dataframe thead th {\n",
       "        text-align: right;\n",
       "    }\n",
       "</style>\n",
       "<table border=\"1\" class=\"dataframe\">\n",
       "  <thead>\n",
       "    <tr style=\"text-align: right;\">\n",
       "      <th></th>\n",
       "      <th>review_id</th>\n",
       "      <th>user_id</th>\n",
       "      <th>business_id</th>\n",
       "      <th>date</th>\n",
       "      <th>text</th>\n",
       "      <th>useful</th>\n",
       "      <th>funny</th>\n",
       "      <th>cool</th>\n",
       "      <th>city</th>\n",
       "      <th>stars_1.0</th>\n",
       "      <th>stars_2.0</th>\n",
       "      <th>stars_3.0</th>\n",
       "      <th>stars_4.0</th>\n",
       "      <th>stars_5.0</th>\n",
       "    </tr>\n",
       "  </thead>\n",
       "  <tbody>\n",
       "    <tr>\n",
       "      <th>485217</th>\n",
       "      <td>QdGWLrIpNLXFqunVLn9eZA</td>\n",
       "      <td>HBT4E9HbG-jIKQoG75VBSw</td>\n",
       "      <td>Lhl72icGvaW2rFClTy-hog</td>\n",
       "      <td>2010-08-07</td>\n",
       "      <td>Big Huge slices of fish, my biggest ever exper...</td>\n",
       "      <td>0.0</td>\n",
       "      <td>0.0</td>\n",
       "      <td>0.0</td>\n",
       "      <td>Peoria</td>\n",
       "      <td>0</td>\n",
       "      <td>0</td>\n",
       "      <td>0</td>\n",
       "      <td>1</td>\n",
       "      <td>0</td>\n",
       "    </tr>\n",
       "    <tr>\n",
       "      <th>30834</th>\n",
       "      <td>ul6LOdSdxNRcWyddxubjMg</td>\n",
       "      <td>2BYr3qIt27SOv_WMNrCFpw</td>\n",
       "      <td>ahGptHMIRIBXR9wzqZqZwA</td>\n",
       "      <td>2017-03-09</td>\n",
       "      <td>So delicious. Our waitress, Alexis, was adorab...</td>\n",
       "      <td>0.0</td>\n",
       "      <td>0.0</td>\n",
       "      <td>0.0</td>\n",
       "      <td>Charlotte</td>\n",
       "      <td>0</td>\n",
       "      <td>0</td>\n",
       "      <td>0</td>\n",
       "      <td>0</td>\n",
       "      <td>1</td>\n",
       "    </tr>\n",
       "    <tr>\n",
       "      <th>298780</th>\n",
       "      <td>a_djYqfzHHI-WSLWMKzVyg</td>\n",
       "      <td>oH-pRxI7Q-qZbZaoVQHeTw</td>\n",
       "      <td>ajwGl90CuCZac3BKWY1ShQ</td>\n",
       "      <td>2016-01-21</td>\n",
       "      <td>I usually come here after 12am and I can't com...</td>\n",
       "      <td>0.0</td>\n",
       "      <td>0.0</td>\n",
       "      <td>0.0</td>\n",
       "      <td>Las Vegas</td>\n",
       "      <td>0</td>\n",
       "      <td>0</td>\n",
       "      <td>0</td>\n",
       "      <td>1</td>\n",
       "      <td>0</td>\n",
       "    </tr>\n",
       "    <tr>\n",
       "      <th>393367</th>\n",
       "      <td>9FVoGq3s1xT1QgusVB6_sw</td>\n",
       "      <td>3y_Z4oy22GB_IDfXyrG3Xw</td>\n",
       "      <td>ilxuZNYvLedeXLuoahjiFA</td>\n",
       "      <td>2013-12-07</td>\n",
       "      <td>Man is this place one of my favorites. From th...</td>\n",
       "      <td>4.0</td>\n",
       "      <td>0.0</td>\n",
       "      <td>1.0</td>\n",
       "      <td>Cuyahoga Falls</td>\n",
       "      <td>0</td>\n",
       "      <td>0</td>\n",
       "      <td>0</td>\n",
       "      <td>0</td>\n",
       "      <td>1</td>\n",
       "    </tr>\n",
       "    <tr>\n",
       "      <th>817374</th>\n",
       "      <td>WIs_1Ksr-xoqj09ncJ9kqQ</td>\n",
       "      <td>9r-Z59v4Hj5InNu01kSdtQ</td>\n",
       "      <td>4hG2j_ibsNblDgqei05U_g</td>\n",
       "      <td>2010-09-21</td>\n",
       "      <td>I love Social house for late night dining, hap...</td>\n",
       "      <td>1.0</td>\n",
       "      <td>0.0</td>\n",
       "      <td>1.0</td>\n",
       "      <td>Las Vegas</td>\n",
       "      <td>0</td>\n",
       "      <td>0</td>\n",
       "      <td>0</td>\n",
       "      <td>1</td>\n",
       "      <td>0</td>\n",
       "    </tr>\n",
       "  </tbody>\n",
       "</table>\n",
       "</div>"
      ],
      "text/plain": [
       "                     review_id                 user_id  \\\n",
       "485217  QdGWLrIpNLXFqunVLn9eZA  HBT4E9HbG-jIKQoG75VBSw   \n",
       "30834   ul6LOdSdxNRcWyddxubjMg  2BYr3qIt27SOv_WMNrCFpw   \n",
       "298780  a_djYqfzHHI-WSLWMKzVyg  oH-pRxI7Q-qZbZaoVQHeTw   \n",
       "393367  9FVoGq3s1xT1QgusVB6_sw  3y_Z4oy22GB_IDfXyrG3Xw   \n",
       "817374  WIs_1Ksr-xoqj09ncJ9kqQ  9r-Z59v4Hj5InNu01kSdtQ   \n",
       "\n",
       "                   business_id        date  \\\n",
       "485217  Lhl72icGvaW2rFClTy-hog  2010-08-07   \n",
       "30834   ahGptHMIRIBXR9wzqZqZwA  2017-03-09   \n",
       "298780  ajwGl90CuCZac3BKWY1ShQ  2016-01-21   \n",
       "393367  ilxuZNYvLedeXLuoahjiFA  2013-12-07   \n",
       "817374  4hG2j_ibsNblDgqei05U_g  2010-09-21   \n",
       "\n",
       "                                                     text  useful  funny  \\\n",
       "485217  Big Huge slices of fish, my biggest ever exper...     0.0    0.0   \n",
       "30834   So delicious. Our waitress, Alexis, was adorab...     0.0    0.0   \n",
       "298780  I usually come here after 12am and I can't com...     0.0    0.0   \n",
       "393367  Man is this place one of my favorites. From th...     4.0    0.0   \n",
       "817374  I love Social house for late night dining, hap...     1.0    0.0   \n",
       "\n",
       "        cool            city  stars_1.0  stars_2.0  stars_3.0  stars_4.0  \\\n",
       "485217   0.0          Peoria          0          0          0          1   \n",
       "30834    0.0       Charlotte          0          0          0          0   \n",
       "298780   0.0       Las Vegas          0          0          0          1   \n",
       "393367   1.0  Cuyahoga Falls          0          0          0          0   \n",
       "817374   1.0       Las Vegas          0          0          0          1   \n",
       "\n",
       "        stars_5.0  \n",
       "485217          0  \n",
       "30834           1  \n",
       "298780          0  \n",
       "393367          1  \n",
       "817374          0  "
      ]
     },
     "execution_count": 20,
     "metadata": {},
     "output_type": "execute_result"
    }
   ],
   "source": [
    "valid_data = pd.get_dummies(valid_data, columns = ['stars'])\n",
    "valid_data.head()"
   ]
  },
  {
   "cell_type": "code",
   "execution_count": 21,
   "metadata": {},
   "outputs": [],
   "source": [
    "# max_features is an upper bound on the number of words in the vocabulary\n",
    "max_features = 20000\n",
    "tfidf = TfidfVectorizer(max_features = max_features)"
   ]
  },
  {
   "cell_type": "code",
   "execution_count": 22,
   "metadata": {},
   "outputs": [],
   "source": [
    "class NBFeatures(BaseEstimator):\n",
    "    '''Class implementation of Jeremy Howards NB Linear model'''\n",
    "    def __init__(self, alpha):\n",
    "        # Smoothing Parameter: always going to be one for my use\n",
    "        self.alpha = alpha\n",
    "        \n",
    "    def preprocess_x(self, x, r):\n",
    "        return x.multiply(r)\n",
    "    \n",
    "    # calculate probabilities\n",
    "    def pr(self, x, y_i, y):\n",
    "        p = x[y == y_i].sum(0)\n",
    "        return (p + self.alpha)/((y==y_i).sum()+self.alpha)\n",
    "    \n",
    "    # calculate the log ratio and represent as sparse matrix\n",
    "    # ie fit the nb model\n",
    "    def fit(self, x, y = None):\n",
    "        self._r = sparse.csr_matrix(np.log(self.pr(x, 1, y) /self.pr(x, 0, y)))\n",
    "        return self\n",
    "    \n",
    "    # apply the nb fit to original features x\n",
    "    def transform(self, x):\n",
    "        x_nb = self.preprocess_x(x, self._r)\n",
    "        return x_nb"
   ]
  },
  {
   "cell_type": "code",
   "execution_count": 23,
   "metadata": {},
   "outputs": [],
   "source": [
    "# Create pipeline using sklearn pipeline:\n",
    "    # I basically create my tfidf features which are fed to my NB model \n",
    "    # for probability calculations. Then those are fed as input to my \n",
    "    # logistic regression model.\n",
    "lr = LogisticRegression()\n",
    "nb = NBFeatures(1)\n",
    "p = Pipeline([\n",
    "    ('tfidf', tfidf),\n",
    "    ('nb', nb),\n",
    "    ('lr', lr)\n",
    "])"
   ]
  },
  {
   "cell_type": "code",
   "execution_count": 24,
   "metadata": {},
   "outputs": [
    {
     "name": "stdout",
     "output_type": "stream",
     "text": [
      "CV score for class stars_1.0 is 0.9206250287731289\n",
      "CV score for class stars_2.0 is 0.8976246123000017\n",
      "CV score for class stars_3.0 is 0.8761244023041757\n",
      "CV score for class stars_4.0 is 0.7575001174365582\n",
      "CV score for class stars_5.0 is 0.7423759295654434\n"
     ]
    }
   ],
   "source": [
    "class_names = ['stars_1.0', 'stars_2.0', 'stars_3.0', 'stars_4.0', 'stars_5.0']\n",
    "scores = []\n",
    "preds = np.zeros((len(valid_data), len(class_names)))\n",
    "for i, class_name in enumerate(class_names):\n",
    "    train_target = train_data[class_name]    \n",
    "    cv_score = np.mean(cross_val_score(estimator = p, X = train_data['text'].values, \n",
    "                                      y = train_target, cv = 3, scoring = 'accuracy'))\n",
    "    scores.append(cv_score)\n",
    "    print('CV score for class {} is {}'.format(class_name, cv_score))\n",
    "    p.fit(train_data['text'].values, train_target)\n",
    "    preds[:,i] = p.predict_proba(valid_data['text'].values)[:,1]"
   ]
  },
  {
   "cell_type": "code",
   "execution_count": 26,
   "metadata": {},
   "outputs": [
    {
     "name": "stdout",
     "output_type": "stream",
     "text": [
      "             precision    recall  f1-score   support\n",
      "\n",
      "          0       0.65      0.60      0.62       248\n",
      "          1       0.38      0.20      0.26       212\n",
      "          2       0.40      0.23      0.29       259\n",
      "          3       0.47      0.33      0.39       488\n",
      "          4       0.60      0.89      0.72       793\n",
      "\n",
      "avg / total       0.53      0.56      0.52      2000\n",
      "\n"
     ]
    }
   ],
   "source": [
    "t = metrics.classification_report(np.argmax(valid_data[class_names].values, axis = 1),np.argmax(preds, axis = 1))\n",
    "print(t)"
   ]
  }
 ],
 "metadata": {
  "kernelspec": {
   "display_name": "Environment (conda_tensorflow_p36)",
   "language": "python",
   "name": "conda_tensorflow_p36"
  },
  "language_info": {
   "codemirror_mode": {
    "name": "ipython",
    "version": 3
   },
   "file_extension": ".py",
   "mimetype": "text/x-python",
   "name": "python",
   "nbconvert_exporter": "python",
   "pygments_lexer": "ipython3",
   "version": "3.6.5"
  }
 },
 "nbformat": 4,
 "nbformat_minor": 2
}
